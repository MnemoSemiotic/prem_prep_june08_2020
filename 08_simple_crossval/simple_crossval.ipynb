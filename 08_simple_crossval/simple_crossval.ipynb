{
 "cells": [
  {
   "cell_type": "markdown",
   "metadata": {},
   "source": [
    "# Simple Machine Learning Workflow"
   ]
  },
  {
   "cell_type": "code",
   "execution_count": 3,
   "metadata": {},
   "outputs": [],
   "source": [
    "import warnings\n",
    "warnings.filterwarnings('ignore')\n",
    "\n",
    "from os import listdir, getcwd"
   ]
  },
  {
   "cell_type": "code",
   "execution_count": 4,
   "metadata": {},
   "outputs": [
    {
     "data": {
      "text/plain": [
       "['simple_crossval.ipynb', '.ipynb_checkpoints', 'data']"
      ]
     },
     "execution_count": 4,
     "metadata": {},
     "output_type": "execute_result"
    }
   ],
   "source": [
    "listdir()"
   ]
  },
  {
   "cell_type": "code",
   "execution_count": 5,
   "metadata": {},
   "outputs": [
    {
     "data": {
      "text/plain": [
       "['iris.data.txt',\n",
       " 'cats_00001.jpg',\n",
       " '.DS_Store',\n",
       " 'cats_00002.jpg',\n",
       " 'cats_00003.jpg',\n",
       " 'dogs_00005.jpg',\n",
       " 'dogs_00004.jpg',\n",
       " 'dogs_00006.jpg']"
      ]
     },
     "execution_count": 5,
     "metadata": {},
     "output_type": "execute_result"
    }
   ],
   "source": [
    "listdir('data')"
   ]
  },
  {
   "cell_type": "markdown",
   "metadata": {},
   "source": [
    "<br><br>\n",
    "# Basic Workflow for ML (for supervised learning)\n",
    "> ## 0. \"I want a model that is able to predict Y, at this level of performance on this data\"\n",
    "* defining a clear performance threshold\n",
    "* defining what it means to be **Done**\n",
    "\n",
    "> ## 1. import/clean/reshape data\n",
    "> * tends to be where you spend most of your time, bc you need to become a minor expert in the domain\n",
    "\n",
    "> ## 2. train/test split\n",
    "> * create a training set, a validation set and a test set\n",
    "> * `training set`: what you use to train your model\n",
    "> * `validation set`: what you use to validate your model while training it\n",
    "> * `test set`: data you've held out that you use to gain final performance metrics on the model after you've built it\n",
    "\n",
    "```\n",
    "from sklearn.model_selection import train_test_split\n",
    "\n",
    "X_train, X_test, y_train, y_test = train_test_split(X, y, test_size=0.20, random_state=23)\n",
    "\n",
    "X_val, X_test, y_val, y_test = train_test_split(X_test, y_test, test_size=0.50, random_state=23)\n",
    "```\n",
    "\n",
    "> ## 3. search for optimal model and optimal model hyperparameters\n",
    "> * we're using KNN (one of the simple/baseline models)\n",
    ">    * the hyperparam for KNN is the number of neighbors that get to vote\n",
    "> * trying to minimize loss/maximize similarity or maximize some classification metric\n",
    "\n",
    "```\n",
    "for each given model\n",
    "    for every combination of hyperparameters\n",
    "        fit/trained model with X_train/y_train\n",
    "        y_pred <- predictions on X_val\n",
    "        record the comparison of y_pred for each given hyperparams\n",
    "            y_pred_train <-- cost(model.predict(X_train), y_train)\n",
    "            y_pred_val <-- cost(model.predict(X_val), y_val)\n",
    "```\n",
    "\n",
    "> * optimal combination is going have the lowest cost for `y_pred_val` or highest classification or similarity metric\n",
    "\n",
    "> ## 4. model fit\n",
    "> * fit model using training data `X_train` and `y_train`\n",
    ">     * can also put back in our validation data `X_val` and `y_val`\n",
    "\n",
    "> ## 5. model predict\n",
    "> * `y_pred_train` <- prediction on `X_train`\n",
    "> * `y_pred_test` <- prediction on `X_test`\n",
    "\n",
    "> ## 6. report metrics\n",
    "> * metrics:\n",
    ">     * `cont(model.predict(X_train), y_train)`"
   ]
  },
  {
   "cell_type": "code",
   "execution_count": null,
   "metadata": {},
   "outputs": [],
   "source": []
  },
  {
   "cell_type": "code",
   "execution_count": null,
   "metadata": {},
   "outputs": [],
   "source": []
  },
  {
   "cell_type": "code",
   "execution_count": null,
   "metadata": {},
   "outputs": [],
   "source": []
  },
  {
   "cell_type": "code",
   "execution_count": null,
   "metadata": {},
   "outputs": [],
   "source": []
  }
 ],
 "metadata": {
  "kernelspec": {
   "display_name": "Python 3",
   "language": "python",
   "name": "python3"
  },
  "language_info": {
   "codemirror_mode": {
    "name": "ipython",
    "version": 3
   },
   "file_extension": ".py",
   "mimetype": "text/x-python",
   "name": "python",
   "nbconvert_exporter": "python",
   "pygments_lexer": "ipython3",
   "version": "3.6.8"
  }
 },
 "nbformat": 4,
 "nbformat_minor": 2
}
